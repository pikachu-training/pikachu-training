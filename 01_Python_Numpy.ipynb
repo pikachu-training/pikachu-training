{
  "cells": [
    {
      "cell_type": "markdown",
      "metadata": {
        "id": "view-in-github",
        "colab_type": "text"
      },
      "source": [
        "<a href=\"https://colab.research.google.com/github/a-forty-two/CDB22DW022/blob/main/01_Python_Numpy.ipynb\" target=\"_parent\"><img src=\"https://colab.research.google.com/assets/colab-badge.svg\" alt=\"Open In Colab\"/></a>"
      ]
    },
    {
      "cell_type": "markdown",
      "metadata": {
        "id": "6fW9u7U2f3tw"
      },
      "source": [
        "The first thing we want to do is import numpy."
      ]
    },
    {
      "cell_type": "code",
      "execution_count": null,
      "metadata": {
        "id": "nWrV7p86f3t8"
      },
      "outputs": [],
      "source": [
        "import numpy as np"
      ]
    },
    {
      "cell_type": "markdown",
      "metadata": {
        "id": "OUtpmrmjf3t_"
      },
      "source": [
        "Let us first define a Python list containing the ages of 6 people."
      ]
    },
    {
      "cell_type": "code",
      "execution_count": null,
      "metadata": {
        "colab": {
          "base_uri": "https://localhost:8080/"
        },
        "id": "QyiKV7NEf3uA",
        "outputId": "4e9dfe4f-1548-4533-ee84-e41ffd2fca99"
      },
      "outputs": [
        {
          "output_type": "stream",
          "name": "stdout",
          "text": [
            "[10, 5, 8, 32, 65, 43]\n"
          ]
        }
      ],
      "source": [
        "ages_list = [10, 5, 8, 32, 65, 43]\n",
        "print(ages_list)"
      ]
    },
    {
      "cell_type": "markdown",
      "metadata": {
        "id": "El-V-61if3uB"
      },
      "source": [
        "There are 3 main ways to instantiate a Numpy ndarray object. One of these is to use `np.array(<collection>)`"
      ]
    },
    {
      "cell_type": "code",
      "execution_count": null,
      "metadata": {
        "colab": {
          "base_uri": "https://localhost:8080/"
        },
        "id": "ArD3kzlRf3uC",
        "outputId": "b7e3b71e-89fe-4192-c074-8136c0aa1a7e"
      },
      "outputs": [
        {
          "output_type": "stream",
          "name": "stdout",
          "text": [
            "<class 'numpy.ndarray'>\n",
            "[10  5  8 32 65 43]\n"
          ]
        }
      ],
      "source": [
        "ages = np.array(ages_list)\n",
        "print(type(ages))\n",
        "print(ages)"
      ]
    },
    {
      "cell_type": "code",
      "execution_count": null,
      "metadata": {
        "colab": {
          "base_uri": "https://localhost:8080/"
        },
        "id": "nn3XpvQtf3uE",
        "outputId": "291acf27-8b0f-43db-b591-7e7cabf63b65"
      },
      "outputs": [
        {
          "output_type": "stream",
          "name": "stdout",
          "text": [
            "[10  5  8 32 65 43]\n",
            "Size:\t 6\n",
            "Shape:\t (6,)\n"
          ]
        }
      ],
      "source": [
        "print(ages)\n",
        "print(\"Size:\\t\" , ages.size)\n",
        "print(\"Shape:\\t\", ages.shape)"
      ]
    },
    {
      "cell_type": "code",
      "execution_count": null,
      "metadata": {
        "scrolled": true,
        "colab": {
          "base_uri": "https://localhost:8080/"
        },
        "id": "HGPTfW5qf3uG",
        "outputId": "c6e058bb-2484-4cf4-c7e3-4b7928482dd1"
      },
      "outputs": [
        {
          "output_type": "stream",
          "name": "stdout",
          "text": [
            "[0. 0. 0. 0. 0.]\n"
          ]
        }
      ],
      "source": [
        "zeroArr = np.zeros(5)\n",
        "print(zeroArr)"
      ]
    },
    {
      "cell_type": "markdown",
      "metadata": {
        "id": "WXqxb_I3f3uI"
      },
      "source": [
        "### Multi-dim"
      ]
    },
    {
      "cell_type": "markdown",
      "metadata": {
        "id": "iIOqFgVBf3uJ"
      },
      "source": [
        "Now let us define a new list containing the weights of these 6 people."
      ]
    },
    {
      "cell_type": "code",
      "execution_count": null,
      "metadata": {
        "id": "7AGncgWpf3uK"
      },
      "outputs": [],
      "source": [
        "weight_list = [32, 18, 26, 60, 55, 65]"
      ]
    },
    {
      "cell_type": "markdown",
      "metadata": {
        "id": "TxoB9DXnf3uL"
      },
      "source": [
        "Now, we define an ndarray containing all fo this information, and again print the size and shape of the array."
      ]
    },
    {
      "cell_type": "code",
      "execution_count": null,
      "metadata": {
        "colab": {
          "base_uri": "https://localhost:8080/"
        },
        "id": "-E_edHa7f3uM",
        "outputId": "4f520296-a02b-4871-b6d8-e3672e473342"
      },
      "outputs": [
        {
          "output_type": "stream",
          "name": "stdout",
          "text": [
            "People:\t [[10  5  8 32 65 43]\n",
            " [32 18 26 60 55 65]]\n",
            "Size:\t 12\n",
            "Shape:\t (2, 6)\n"
          ]
        }
      ],
      "source": [
        "people = np.array([ages_list, weight_list])\n",
        "\n",
        "print(\"People:\\t\" , people)\n",
        "print(\"Size:\\t\" , people.size)\n",
        "print(\"Shape:\\t\", people.shape)"
      ]
    },
    {
      "cell_type": "code",
      "execution_count": null,
      "metadata": {
        "colab": {
          "base_uri": "https://localhost:8080/"
        },
        "id": "90m9B-kpf3uN",
        "outputId": "9db8ad35-7ae6-4907-db86-fb56111f8be3"
      },
      "outputs": [
        {
          "output_type": "stream",
          "name": "stdout",
          "text": [
            "People:\t [[10]\n",
            " [ 5]\n",
            " [ 8]\n",
            " [32]\n",
            " [65]\n",
            " [43]\n",
            " [32]\n",
            " [18]\n",
            " [26]\n",
            " [60]\n",
            " [55]\n",
            " [65]]\n",
            "Size:\t 12\n",
            "Shape:\t (12, 1)\n"
          ]
        }
      ],
      "source": [
        "# 2 X 6 = 1 X 12 = 4 X 3 = 3 X 4 = 12 X 1 \n",
        "\n",
        "people = people.reshape(12,1)\n",
        "print(\"People:\\t\" , people)\n",
        "print(\"Size:\\t\" , people.size)\n",
        "print(\"Shape:\\t\", people.shape)"
      ]
    },
    {
      "cell_type": "markdown",
      "metadata": {
        "id": "I3P4thf4f3uP"
      },
      "source": [
        "###### Note: The new shape must be the same \"size\" as the old shape"
      ]
    },
    {
      "cell_type": "markdown",
      "metadata": {
        "id": "fc6fNBs2f3uR"
      },
      "source": [
        "### Exercise\n",
        "\n",
        "* Generate a 1D numpy array with the values [7, 9, 65, 33, 85, 99]\n",
        "\n",
        "* Generate a matrix (2D numpy array) of the values:\n",
        "\n",
        "\\begin{align}\n",
        "  \\mathbf{A} =\n",
        "  \\begin{pmatrix}\n",
        "    1 & 2 & 4 \\\\\n",
        "    2 & 3 & 0 \\\\\n",
        "    0 & 5 & 1\n",
        "  \\end{pmatrix}\n",
        "\\end{align}\n",
        "\n",
        "* Change the dimensions of this array to another permitted shape"
      ]
    },
    {
      "cell_type": "markdown",
      "metadata": {
        "id": "H27O3qvEf3uS"
      },
      "source": [
        "## Array Generation"
      ]
    },
    {
      "cell_type": "markdown",
      "metadata": {
        "id": "iBmTn_yCf3uT"
      },
      "source": [
        "Instead of defining an array manually, we can ask numpy to do it for us.\n",
        "\n",
        "The `np.arange()` method creates a range of numbers with user defined steps between each."
      ]
    },
    {
      "cell_type": "code",
      "execution_count": null,
      "metadata": {
        "id": "G8jeRmOmf3uU"
      },
      "outputs": [],
      "source": [
        "five_times_table = np.arange(0, 55, 5)\n",
        "five_times_table"
      ]
    },
    {
      "cell_type": "markdown",
      "metadata": {
        "id": "G8wbT3qKf3uV"
      },
      "source": [
        "The `np.linspace()` method will produce a range of evenly spaced values, starting, ending, and taking as many steps as you specify."
      ]
    },
    {
      "cell_type": "code",
      "execution_count": null,
      "metadata": {
        "id": "jkTCkOHYf3uV"
      },
      "outputs": [],
      "source": [
        "five_spaced = np.linspace(0,50,11)\n",
        "print(five_spaced)"
      ]
    },
    {
      "cell_type": "markdown",
      "metadata": {
        "id": "ORrsfDI5f3uW"
      },
      "source": [
        "The `.repeat()` method will repeat an object you pas a specified number of times."
      ]
    },
    {
      "cell_type": "code",
      "execution_count": null,
      "metadata": {
        "id": "lghyp6hgf3uW"
      },
      "outputs": [],
      "source": [
        "twoArr = np.repeat(2, 10)\n",
        "print(twoArr)"
      ]
    },
    {
      "cell_type": "markdown",
      "metadata": {
        "id": "97emCPGNf3uX"
      },
      "source": [
        "The `np.eye()` functions will create an identity matrix/array for us."
      ]
    },
    {
      "cell_type": "code",
      "execution_count": null,
      "metadata": {
        "id": "p6C8QH5Bf3uX"
      },
      "outputs": [],
      "source": [
        "identity_matrix = np.eye(6)\n",
        "print(identity_matrix)"
      ]
    },
    {
      "cell_type": "markdown",
      "metadata": {
        "id": "-_KFyodHf3uY"
      },
      "source": [
        "# Operations"
      ]
    },
    {
      "cell_type": "markdown",
      "metadata": {
        "id": "8oSXTBcSf3uY"
      },
      "source": [
        "There are many, many operations which we can perform on arrays. Below, we demonstrate a few."
      ]
    },
    {
      "cell_type": "markdown",
      "metadata": {
        "id": "txj5KOPIf3uY"
      },
      "source": [
        "What is happening in each line?"
      ]
    },
    {
      "cell_type": "code",
      "execution_count": null,
      "metadata": {
        "id": "83l_BkSVf3uZ"
      },
      "outputs": [],
      "source": [
        "five_times_table"
      ]
    },
    {
      "cell_type": "code",
      "execution_count": null,
      "metadata": {
        "scrolled": true,
        "id": "wSVr_aruf3uk"
      },
      "outputs": [],
      "source": [
        "print(\"1:\", 2 * five_times_table)\n",
        "print(\"2:\", 10 + five_times_table)\n",
        "print(\"3:\", five_times_table - 1)\n",
        "print(\"4:\", five_times_table/5)\n",
        "print(\"5:\", five_times_table **2)\n",
        "print(\"6:\", five_times_table < 20)"
      ]
    },
    {
      "cell_type": "markdown",
      "metadata": {
        "id": "bnyjVvfTf3uk"
      },
      "source": [
        "### Speed Test"
      ]
    },
    {
      "cell_type": "markdown",
      "metadata": {
        "id": "p1NDiwD0f3ul"
      },
      "source": [
        "If we compare the speed at which we can do these operations compared to core python, we will notice a substantial difference."
      ]
    },
    {
      "cell_type": "code",
      "execution_count": null,
      "metadata": {
        "scrolled": true,
        "id": "5vVNgPGsf3ul"
      },
      "outputs": [],
      "source": [
        "fives_list = list(range(0,5001,5))\n",
        "fives_list"
      ]
    },
    {
      "cell_type": "code",
      "execution_count": null,
      "metadata": {
        "id": "13---Nbif3um"
      },
      "outputs": [],
      "source": [
        "five_times_table_lge = np.arange(0,5001,5)\n",
        "five_times_table_lge"
      ]
    },
    {
      "cell_type": "code",
      "execution_count": null,
      "metadata": {
        "id": "CHCXdIkCf3uo"
      },
      "outputs": [],
      "source": [
        "%timeit five_times_table_lge + 5"
      ]
    },
    {
      "cell_type": "code",
      "execution_count": null,
      "metadata": {
        "id": "64lRN5Pkf3uo"
      },
      "outputs": [],
      "source": [
        "%timeit [e + 5 for e in fives_list]"
      ]
    },
    {
      "cell_type": "markdown",
      "metadata": {
        "id": "AyUO-heQf3up"
      },
      "source": [
        "Boolean string operations can also be performed on ndarrays."
      ]
    },
    {
      "cell_type": "code",
      "execution_count": null,
      "metadata": {
        "id": "V4b9v5dnf3up"
      },
      "outputs": [],
      "source": [
        "words = np.array([\"ten\", \"nine\", \"eight\", \"seven\", \"six\"])\n",
        "\n",
        "print(np.isin(words, 'e'))\n",
        "\n",
        "print(\"e\" in words)\n",
        "[\"e\" in word for word in words]"
      ]
    },
    {
      "cell_type": "markdown",
      "metadata": {
        "id": "KoR2-UOMf3uq"
      },
      "source": [
        "# Transpose"
      ]
    },
    {
      "cell_type": "code",
      "execution_count": null,
      "metadata": {
        "id": "aSSkwP3Vf3uq"
      },
      "outputs": [],
      "source": [
        "people.shape = (2, 6)\n",
        "print(people, \"\\n\")\n",
        "print(people.T)"
      ]
    },
    {
      "cell_type": "markdown",
      "metadata": {
        "id": "CqIkjQiIf3uq"
      },
      "source": [
        "# Data Types"
      ]
    },
    {
      "cell_type": "markdown",
      "metadata": {
        "id": "BPKvj0-Rf3ur"
      },
      "source": [
        "As previously mentioned, ndarrays can only have one data type. If we want to obtain or change this, we use the `.dtype` attribute."
      ]
    },
    {
      "cell_type": "code",
      "execution_count": null,
      "metadata": {
        "id": "AsE70TWOf3ur"
      },
      "outputs": [],
      "source": [
        "people.dtype"
      ]
    },
    {
      "cell_type": "markdown",
      "metadata": {
        "id": "MGca2Ugaf3ur"
      },
      "source": [
        "What is the data type of the below ndarray?"
      ]
    },
    {
      "cell_type": "code",
      "execution_count": null,
      "metadata": {
        "id": "kGAMal70f3ur"
      },
      "outputs": [],
      "source": [
        "ages_with_strings = np.array([10, 5, 8, '32', '65', '43'])\n",
        "ages_with_strings"
      ]
    },
    {
      "cell_type": "markdown",
      "metadata": {
        "id": "2Z58LyVif3us"
      },
      "source": [
        "What is the dtype of this array?"
      ]
    },
    {
      "cell_type": "code",
      "execution_count": null,
      "metadata": {
        "id": "ZrGfLR3ef3us"
      },
      "outputs": [],
      "source": [
        "ages_with_strings = np.array([10, 5, 8, '32', '65', '43'], dtype='int32')\n",
        "ages_with_strings"
      ]
    },
    {
      "cell_type": "markdown",
      "metadata": {
        "id": "mgMHfnvUf3us"
      },
      "source": [
        "What do you think has happened here?"
      ]
    },
    {
      "cell_type": "code",
      "execution_count": null,
      "metadata": {
        "id": "Lv7PVSLAf3ut"
      },
      "outputs": [],
      "source": [
        "ages_with_strings = np.array([10, 5, 8, '32', '65', '43'])\n",
        "print(ages_with_strings)"
      ]
    },
    {
      "cell_type": "code",
      "execution_count": null,
      "metadata": {
        "id": "CpvjCgP9f3ut"
      },
      "outputs": [],
      "source": [
        "ages_with_strings.dtype = 'int32'\n",
        "print(ages_with_strings)"
      ]
    },
    {
      "cell_type": "code",
      "execution_count": null,
      "metadata": {
        "id": "bSWmYnlAf3ut"
      },
      "outputs": [],
      "source": [
        "ages_with_strings.size"
      ]
    },
    {
      "cell_type": "code",
      "execution_count": null,
      "metadata": {
        "id": "bwCcDgCrf3uu"
      },
      "outputs": [],
      "source": [
        "ages_with_strings.size/21"
      ]
    },
    {
      "cell_type": "code",
      "execution_count": null,
      "metadata": {
        "id": "-iZX97C_f3uu"
      },
      "outputs": [],
      "source": [
        "np.array([10, 5, 8, '32', '65', '43']).size"
      ]
    },
    {
      "cell_type": "markdown",
      "metadata": {
        "id": "Y3zu38gaf3uu"
      },
      "source": [
        "The correct way to have changed the data type of the ndarray would have been to use the `.astype()` method, demonstrated below."
      ]
    },
    {
      "cell_type": "code",
      "execution_count": null,
      "metadata": {
        "id": "6E4Y3ydff3uv"
      },
      "outputs": [],
      "source": [
        "ages_with_strings = np.array([10, 5, 8, '32', '65', '43'])\n",
        "print(ages_with_strings)\n",
        "print(ages_with_strings.astype('int32'))"
      ]
    },
    {
      "cell_type": "markdown",
      "metadata": {
        "id": "RTVKRrttf3uv"
      },
      "source": [
        "### Exercise\n",
        "\n",
        "* #### Create an array of string numbers, but use dtype to make it an array of floats.\n",
        "* #### Transpose the matrix, printing the new size and shape.\n",
        "* #### Use the .astype() method to convert the array to boolean."
      ]
    },
    {
      "cell_type": "markdown",
      "metadata": {
        "id": "vLGkpBirf3uv"
      },
      "source": [
        "## Array Slicing Operations"
      ]
    },
    {
      "cell_type": "markdown",
      "metadata": {
        "id": "LjG3OJ9Wf3uw"
      },
      "source": [
        "As before, we can use square brackets and indices to access individual values, and the colon operator to slice the array."
      ]
    },
    {
      "cell_type": "code",
      "execution_count": null,
      "metadata": {
        "id": "WPuV4CB4f3uw"
      },
      "outputs": [],
      "source": [
        "five_times_table"
      ]
    },
    {
      "cell_type": "code",
      "execution_count": null,
      "metadata": {
        "id": "T5fdjxi6f3ux"
      },
      "outputs": [],
      "source": [
        "five_times_table[0]"
      ]
    },
    {
      "cell_type": "code",
      "execution_count": null,
      "metadata": {
        "scrolled": true,
        "id": "k97stSEJf3ux"
      },
      "outputs": [],
      "source": [
        "five_times_table[-1]"
      ]
    },
    {
      "cell_type": "code",
      "execution_count": null,
      "metadata": {
        "id": "mYxvyxMif3ux"
      },
      "outputs": [],
      "source": [
        "five_times_table[:4]"
      ]
    },
    {
      "cell_type": "code",
      "execution_count": null,
      "metadata": {
        "id": "W7cXp5L9f3uy"
      },
      "outputs": [],
      "source": [
        "five_times_table[4:]"
      ]
    },
    {
      "cell_type": "markdown",
      "metadata": {
        "id": "-QHfQhXff3uy"
      },
      "source": [
        "We can also slice an n-dim ndarray., specifying the slice operation accross each axis."
      ]
    },
    {
      "cell_type": "code",
      "execution_count": null,
      "metadata": {
        "id": "SFk0RoW2f3uz"
      },
      "outputs": [],
      "source": [
        "print(people)\n",
        "people[:3, :3]"
      ]
    },
    {
      "cell_type": "markdown",
      "metadata": {
        "id": "BLsdDPqff3uz"
      },
      "source": [
        "### Exercise\n",
        "\n",
        "* Create a numpy array with 50 zeros\n",
        "* Create a np array of 2 repeated 20 times\n",
        "* Create a numpy array from 0 to 2 $\\pi$ in steps of 0.1\n",
        "\n",
        "For one of the arrays generated:\n",
        "* Get the first five values\n",
        "* Get the last 3 values\n",
        "* Get the 4th value to the 7th value"
      ]
    },
    {
      "cell_type": "markdown",
      "metadata": {
        "id": "EmHEeElBf3u0"
      },
      "source": [
        "We can reverse an array by using `.flip()` or by using the `::` operator."
      ]
    },
    {
      "cell_type": "code",
      "execution_count": null,
      "metadata": {
        "id": "JIgZ-Q70f3u1"
      },
      "outputs": [],
      "source": [
        "reverse_five_times_table = np.flip(five_times_table)\n",
        "reverse_five_times_table"
      ]
    },
    {
      "cell_type": "code",
      "execution_count": null,
      "metadata": {
        "id": "Tpbh3aBwf3u1"
      },
      "outputs": [],
      "source": [
        "reverse_five_times_table = five_times_table[-1::-1]\n",
        "print(reverse_five_times_table)\n",
        "five_times_table"
      ]
    },
    {
      "cell_type": "markdown",
      "metadata": {
        "id": "Uv-5I5nUf3u2"
      },
      "source": [
        "We can also use the `::` operator to select steps of the original array."
      ]
    },
    {
      "cell_type": "code",
      "execution_count": null,
      "metadata": {
        "id": "6_0dSK9Gf3u2"
      },
      "outputs": [],
      "source": [
        "five_times_table[0::3] #Every 3rd element starting from 0"
      ]
    },
    {
      "cell_type": "markdown",
      "metadata": {
        "id": "BDBsCMWqf3u2"
      },
      "source": [
        "### Exercise\n",
        "Take one of the arrays you defined and\n",
        "* #### Reverse it\n",
        "* #### Only keep every 4th element.\n",
        "* #### Get every 2nd element, starting from the last and moving backwards."
      ]
    },
    {
      "cell_type": "markdown",
      "metadata": {
        "id": "BxtmKeXff3u3"
      },
      "source": [
        "# Stats"
      ]
    },
    {
      "cell_type": "code",
      "execution_count": null,
      "metadata": {
        "id": "tfo0t9f9f3u3"
      },
      "outputs": [],
      "source": [
        "np.array([1.65432, 5.98765]).round(2)"
      ]
    },
    {
      "cell_type": "code",
      "execution_count": null,
      "metadata": {
        "id": "9Sz__aMFf3u4"
      },
      "outputs": [],
      "source": [
        "nums = np.arange(0, 4, 0.2555)"
      ]
    },
    {
      "cell_type": "markdown",
      "metadata": {
        "id": "3kV0k9axf3u7"
      },
      "source": [
        "### Exercise\n",
        "\n",
        "* Compute min, max, sum, mean, median, variance, and standard deviation of the above array, all to to 2 decimal places."
      ]
    },
    {
      "cell_type": "code",
      "execution_count": null,
      "metadata": {
        "id": "oyYkdGucf3vF"
      },
      "outputs": [],
      "source": [
        "print(\"min = \", np.min(nums).round(2))\n",
        "print(\"max = \", np.max(nums).round(2))\n",
        "print(\"sum = \", np.sum(nums).round(2))\n",
        "print(\"mean = \", np.mean(nums).round(2))\n",
        "print(\"median = \", np.median(nums).round(2))\n",
        "print(\"var = \", np.var(nums).round(2))\n",
        "print(\"std = \", np.std(nums).round(2))"
      ]
    },
    {
      "cell_type": "markdown",
      "metadata": {
        "id": "dlvWo9jaf3vX"
      },
      "source": [
        "## Random"
      ]
    },
    {
      "cell_type": "markdown",
      "metadata": {
        "id": "6YZdTD9Af3vc"
      },
      "source": [
        "With `np.random`, we can generate a number of types of dataset, and create training data.\n",
        "\n",
        "The below code simulates a fair coin toss."
      ]
    },
    {
      "cell_type": "code",
      "execution_count": null,
      "metadata": {
        "id": "zp9e2bvJf3vt"
      },
      "outputs": [],
      "source": [
        "flip = np.random.choice([0,1], 10)\n",
        "flip"
      ]
    },
    {
      "cell_type": "code",
      "execution_count": null,
      "metadata": {
        "id": "M30nhJSFf3vu"
      },
      "outputs": [],
      "source": [
        "np.random.rand(10,20,9)"
      ]
    },
    {
      "cell_type": "markdown",
      "metadata": {
        "id": "R3aOgO_of3vu"
      },
      "source": [
        "We can produce 1000 datapoints of a normally distributed data set by using `np.random.normal()`"
      ]
    },
    {
      "cell_type": "code",
      "execution_count": null,
      "metadata": {
        "id": "QvcXsQgvf3vv"
      },
      "outputs": [],
      "source": [
        "mu, sigma = 0, 0.1 # mean and standard deviation\n",
        "s = np.random.normal(mu, sigma, 1000)"
      ]
    },
    {
      "cell_type": "markdown",
      "metadata": {
        "id": "BQQ5QKBpf3vv"
      },
      "source": [
        "### Exercise\n",
        "* Simulate a six-sided dice using numpy.random.choice(), generate a list of values you would obtain from 10 throws.\n",
        "* Simulate a two-sided coin toss that is NOT fair: it is twice as likely to have head than tails.\n"
      ]
    },
    {
      "cell_type": "code",
      "execution_count": null,
      "metadata": {
        "id": "OSbPqKtLf3vv"
      },
      "outputs": [],
      "source": [
        ""
      ]
    }
  ],
  "metadata": {
    "kernelspec": {
      "display_name": "Python 3",
      "language": "python",
      "name": "python3"
    },
    "language_info": {
      "codemirror_mode": {
        "name": "ipython",
        "version": 3
      },
      "file_extension": ".py",
      "mimetype": "text/x-python",
      "name": "python",
      "nbconvert_exporter": "python",
      "pygments_lexer": "ipython3",
      "version": "3.7.4"
    },
    "colab": {
      "name": "01_Python Numpy.ipynb",
      "provenance": [],
      "include_colab_link": true
    }
  },
  "nbformat": 4,
  "nbformat_minor": 0
}