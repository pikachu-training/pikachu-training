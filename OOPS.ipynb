{
  "nbformat": 4,
  "nbformat_minor": 0,
  "metadata": {
    "colab": {
      "provenance": [],
      "authorship_tag": "ABX9TyOiUYEuTmgkZjYhkUlOtwXE",
      "include_colab_link": true
    },
    "kernelspec": {
      "name": "python3",
      "display_name": "Python 3"
    },
    "language_info": {
      "name": "python"
    }
  },
  "cells": [
    {
      "cell_type": "markdown",
      "metadata": {
        "id": "view-in-github",
        "colab_type": "text"
      },
      "source": [
        "<a href=\"https://colab.research.google.com/github/pikachu-training/pikachu-training/blob/main/OOPS.ipynb\" target=\"_parent\"><img src=\"https://colab.research.google.com/assets/colab-badge.svg\" alt=\"Open In Colab\"/></a>"
      ]
    },
    {
      "cell_type": "code",
      "execution_count": null,
      "metadata": {
        "id": "yqQZtoZ7cUyK"
      },
      "outputs": [],
      "source": [
        "#Class <ClassName>:\n",
        "#statement"
      ]
    },
    {
      "cell_type": "code",
      "source": [
        "class Aninmals:\n",
        "  pass\n",
        "\n",
        "\n",
        "class Person:\n",
        "\n",
        "States: Name,Gender,Profession\n",
        "Behaviour: Working, Studying\n",
        "\n",
        "\n",
        "\n",
        "\n",
        "obj=Alex\n",
        "State \n",
        "Alex,Male,Doctor\n",
        "Behaviour\n",
        "working"
      ],
      "metadata": {
        "colab": {
          "base_uri": "https://localhost:8080/",
          "height": 132
        },
        "id": "9vE37jWIfs_t",
        "outputId": "fd19391b-cd7c-4c52-cbee-96a4adf1e80b"
      },
      "execution_count": null,
      "outputs": [
        {
          "output_type": "error",
          "ename": "IndentationError",
          "evalue": "ignored",
          "traceback": [
            "\u001b[0;36m  File \u001b[0;32m\"<ipython-input-1-a05ac593422e>\"\u001b[0;36m, line \u001b[0;32m7\u001b[0m\n\u001b[0;31m    States: Name,Gender,Profession\u001b[0m\n\u001b[0m         ^\u001b[0m\n\u001b[0;31mIndentationError\u001b[0m\u001b[0;31m:\u001b[0m expected an indented block\n"
          ]
        }
      ]
    },
    {
      "cell_type": "code",
      "source": [
        "class class_name:\n",
        "  \"\"\"This is a sample class, created on 23 sept   \"\"\"\n",
        "  #statement1\n",
        "  #statement2\n",
        "  .\n",
        "  .\n",
        "  .\n",
        "  #statement3\n",
        "\n"
      ],
      "metadata": {
        "id": "oCSWfHBIhkOa"
      },
      "execution_count": null,
      "outputs": []
    },
    {
      "cell_type": "code",
      "source": [
        "class Person:\n",
        "  def __init__(self, name, Gender,Profession):\n",
        "    #data members of the class(instance variables)\n",
        "    self.name = name\n",
        "    self.Gender =Gender\n",
        "    self.Profession = Profession\n",
        "  # Behaviour of class\n",
        "  def show(self):\n",
        "    print('Name',self.name,\"Gender\",self.Gender,\"Profession\",self.Profession)\n",
        "  def work(self):\n",
        "    print(self.name,\"working as\",self.Profession)"
      ],
      "metadata": {
        "id": "5Y9_l9N6iNQj"
      },
      "execution_count": null,
      "outputs": []
    },
    {
      "cell_type": "code",
      "source": [
        "#creating an object\n",
        "p=Person('Jhon','male','doctor')"
      ],
      "metadata": {
        "id": "hFPmEMFOkhir"
      },
      "execution_count": null,
      "outputs": []
    },
    {
      "cell_type": "code",
      "source": [
        "p.show()\n",
        "\n",
        "p.work()"
      ],
      "metadata": {
        "colab": {
          "base_uri": "https://localhost:8080/"
        },
        "id": "kv4-pjgDkhnp",
        "outputId": "826e280f-3af9-4206-827d-1c030913e856"
      },
      "execution_count": null,
      "outputs": [
        {
          "output_type": "stream",
          "name": "stdout",
          "text": [
            "Name Jhon Gender male Profession doctor\n",
            "Jhon working as doctor\n"
          ]
        }
      ]
    },
    {
      "cell_type": "code",
      "source": [
        "class student:\n",
        "  #class variable\n",
        "  school_name =\"XYZ School\"\n",
        "  #class constructor\n",
        "  def __init__ (self, name, age):\n",
        "\n",
        "    # instance variables\n",
        "    self.name= name\n",
        "    self.age= age"
      ],
      "metadata": {
        "id": "ZzrqRM0wlWKK"
      },
      "execution_count": null,
      "outputs": []
    },
    {
      "cell_type": "code",
      "source": [
        "s1= student(\"Arjun\",15)"
      ],
      "metadata": {
        "id": "8kQO-Zb9msgR"
      },
      "execution_count": null,
      "outputs": []
    },
    {
      "cell_type": "code",
      "source": [
        "# access instance variables\n",
        "print(\"Student:\",s1.name,s1.age)"
      ],
      "metadata": {
        "colab": {
          "base_uri": "https://localhost:8080/"
        },
        "id": "FiKwHIdLmzUx",
        "outputId": "76f11f68-0352-4f20-bc63-aaa60943abbd"
      },
      "execution_count": null,
      "outputs": [
        {
          "output_type": "stream",
          "name": "stdout",
          "text": [
            "Student: Arjun 15\n"
          ]
        }
      ]
    },
    {
      "cell_type": "code",
      "source": [
        "#Modify instance variable\n",
        "s1.name =\"Alice\"\n",
        "s1.age =18\n"
      ],
      "metadata": {
        "id": "wWADB3punFZ6"
      },
      "execution_count": null,
      "outputs": []
    },
    {
      "cell_type": "code",
      "source": [
        "print(\"Student:\",s1.name,s1.age)"
      ],
      "metadata": {
        "colab": {
          "base_uri": "https://localhost:8080/"
        },
        "id": "TroL1Lk8no7w",
        "outputId": "c76882c6-91c7-4738-d117-5fd7e1d0cdd3"
      },
      "execution_count": null,
      "outputs": [
        {
          "output_type": "stream",
          "name": "stdout",
          "text": [
            "Student: Alice 18\n"
          ]
        }
      ]
    },
    {
      "cell_type": "code",
      "source": [
        "#Modify the class variables\n",
        "\n",
        "#<classname>.<Class variable name>=<value>\n",
        "\n",
        "student.school_name = \"ABC School\""
      ],
      "metadata": {
        "id": "TcrdEuWLntYX"
      },
      "execution_count": null,
      "outputs": []
    },
    {
      "cell_type": "code",
      "source": [
        "print('school Name:', student.school_name)"
      ],
      "metadata": {
        "colab": {
          "base_uri": "https://localhost:8080/"
        },
        "id": "F5FV3skloj_0",
        "outputId": "067d47a1-5092-4890-a622-e4e9b8e16df9"
      },
      "execution_count": null,
      "outputs": [
        {
          "output_type": "stream",
          "name": "stdout",
          "text": [
            "school Name: ABC School\n"
          ]
        }
      ]
    },
    {
      "cell_type": "code",
      "source": [
        "s={}"
      ],
      "metadata": {
        "id": "-P47H9q_oq10"
      },
      "execution_count": null,
      "outputs": []
    },
    {
      "cell_type": "code",
      "source": [
        "type(s)"
      ],
      "metadata": {
        "colab": {
          "base_uri": "https://localhost:8080/"
        },
        "id": "NjJrcJs9qy4c",
        "outputId": "3394504e-02de-4beb-d91a-3b7a760b710d"
      },
      "execution_count": null,
      "outputs": [
        {
          "output_type": "execute_result",
          "data": {
            "text/plain": [
              "dict"
            ]
          },
          "metadata": {},
          "execution_count": 17
        }
      ]
    },
    {
      "cell_type": "code",
      "source": [
        "s=[]"
      ],
      "metadata": {
        "id": "Yq5EqmE6q0BB"
      },
      "execution_count": null,
      "outputs": []
    },
    {
      "cell_type": "code",
      "source": [
        "type(s)"
      ],
      "metadata": {
        "colab": {
          "base_uri": "https://localhost:8080/"
        },
        "id": "mIfYwKseq4H1",
        "outputId": "e19d90ab-d5dd-4376-a48f-cdb2885c5ff6"
      },
      "execution_count": null,
      "outputs": [
        {
          "output_type": "execute_result",
          "data": {
            "text/plain": [
              "list"
            ]
          },
          "metadata": {},
          "execution_count": 20
        }
      ]
    },
    {
      "cell_type": "code",
      "source": [
        "s=()"
      ],
      "metadata": {
        "id": "pgCH2Yn8q7pE"
      },
      "execution_count": null,
      "outputs": []
    },
    {
      "cell_type": "code",
      "source": [
        "type(s)"
      ],
      "metadata": {
        "colab": {
          "base_uri": "https://localhost:8080/"
        },
        "id": "frxqe9WMrBV2",
        "outputId": "5746655d-67ac-4bd7-e1e8-1fb9de124c74"
      },
      "execution_count": null,
      "outputs": [
        {
          "output_type": "execute_result",
          "data": {
            "text/plain": [
              "tuple"
            ]
          },
          "metadata": {},
          "execution_count": 23
        }
      ]
    },
    {
      "cell_type": "code",
      "source": [
        "s=set()"
      ],
      "metadata": {
        "id": "6m_5HSQVrC3Z"
      },
      "execution_count": null,
      "outputs": []
    },
    {
      "cell_type": "code",
      "source": [
        "type(s)"
      ],
      "metadata": {
        "colab": {
          "base_uri": "https://localhost:8080/"
        },
        "id": "JLCmhLuBrIiE",
        "outputId": "28ee9d0c-cd8d-48a3-da91-20f3927e1087"
      },
      "execution_count": null,
      "outputs": [
        {
          "output_type": "execute_result",
          "data": {
            "text/plain": [
              "set"
            ]
          },
          "metadata": {},
          "execution_count": 25
        }
      ]
    },
    {
      "cell_type": "code",
      "source": [
        "for l in 'Jhon':\n",
        "  if l == 'o':\n",
        "    pass\n",
        "  print(l, end=\", \")"
      ],
      "metadata": {
        "colab": {
          "base_uri": "https://localhost:8080/"
        },
        "id": "0kC3WCGarJ9U",
        "outputId": "be99d7bc-e419-4029-d238-ceac9d2a2c75"
      },
      "execution_count": null,
      "outputs": [
        {
          "output_type": "stream",
          "name": "stdout",
          "text": [
            "J, h, o, n, "
          ]
        }
      ]
    },
    {
      "cell_type": "code",
      "source": [
        "pow(100,0)"
      ],
      "metadata": {
        "colab": {
          "base_uri": "https://localhost:8080/"
        },
        "id": "j3HDFdF4sC6h",
        "outputId": "47112417-8bab-46f8-ddb4-b3f3bb3fec87"
      },
      "execution_count": null,
      "outputs": [
        {
          "output_type": "execute_result",
          "data": {
            "text/plain": [
              "1"
            ]
          },
          "metadata": {},
          "execution_count": 29
        }
      ]
    },
    {
      "cell_type": "code",
      "source": [
        "\"\"\"Types of variable\n",
        "1.Instance variables\n",
        "2.Static Variable / Class Variable\n",
        "3.Local Variable\n",
        "4.Global Variable\"\"\"\n"
      ],
      "metadata": {
        "colab": {
          "base_uri": "https://localhost:8080/",
          "height": 35
        },
        "id": "us5_e0y--M8f",
        "outputId": "be36b8a8-8b80-4b89-8547-e073587b265c"
      },
      "execution_count": 1,
      "outputs": [
        {
          "output_type": "execute_result",
          "data": {
            "text/plain": [
              "'Types of variable\\n1.Instance variables\\n2.Static Variable / Class Variable\\n3.Local Variable\\n4.Global Variable'"
            ],
            "application/vnd.google.colaboratory.intrinsic+json": {
              "type": "string"
            }
          },
          "metadata": {},
          "execution_count": 1
        }
      ]
    },
    {
      "cell_type": "code",
      "source": [
        "class student:\n",
        "  #class variable\n",
        "  school_name =\"XYZ School\"\n",
        "  #class constructor\n",
        "  def __init__ (self, name, age):\n",
        "\n",
        "    # instance variables\n",
        "    self.name= name\n",
        "    self.age= age"
      ],
      "metadata": {
        "id": "BZ6biuyRgSvf"
      },
      "execution_count": null,
      "outputs": []
    },
    {
      "cell_type": "code",
      "source": [
        "t1=student(\"kiran\",00)"
      ],
      "metadata": {
        "id": "eEyYDz2Qggk4"
      },
      "execution_count": null,
      "outputs": []
    },
    {
      "cell_type": "code",
      "source": [
        "print(\"Name:\", t1.name,\"Age\",t1.age)"
      ],
      "metadata": {
        "colab": {
          "base_uri": "https://localhost:8080/"
        },
        "id": "-IRV_J6sgj9b",
        "outputId": "927c49ed-ffa8-403f-9900-d3188dec591d"
      },
      "execution_count": null,
      "outputs": [
        {
          "output_type": "stream",
          "name": "stdout",
          "text": [
            "Name: kiran Age 0\n"
          ]
        }
      ]
    },
    {
      "cell_type": "code",
      "source": [
        "class Person:\n",
        "  def __init__(self, name, Gender,Profession):\n",
        "    #data members of the class(instance variables)\n",
        "    self.name = name\n",
        "    self.Gender =Gender\n",
        "    self.Profession = Profession\n",
        "  # Behaviour of class\n",
        "  def show(self):\n",
        "    print('Name',self.name,\"Gender\",self.Gender,\"Profession\",self.Profession)\n",
        "  def work(self):\n",
        "    print(self.name,\"working as\",self.Profession)"
      ],
      "metadata": {
        "id": "pNqPoz9rg9mc"
      },
      "execution_count": null,
      "outputs": []
    },
    {
      "cell_type": "code",
      "source": [
        "class Account:\n",
        "  def f1(self,a,b):\n",
        "    self.accno= a\n",
        "    self.b_name =\"ABC\"\n",
        "    self.balance =b"
      ],
      "metadata": {
        "id": "kYpKN4Dlh_ni"
      },
      "execution_count": null,
      "outputs": []
    },
    {
      "cell_type": "code",
      "source": [
        "acc1 =Account()"
      ],
      "metadata": {
        "id": "eeb9GY_0iOWX"
      },
      "execution_count": null,
      "outputs": []
    },
    {
      "cell_type": "code",
      "source": [
        "acc1.accno=100"
      ],
      "metadata": {
        "id": "iy_T35MziSSJ"
      },
      "execution_count": null,
      "outputs": []
    },
    {
      "cell_type": "code",
      "source": [
        "#acc1.balance =100000\n",
        "#acc1.name =\"kiran\"\n",
        "acc1.b_name=\"XYZ\""
      ],
      "metadata": {
        "id": "HoO9azlgiZqT"
      },
      "execution_count": null,
      "outputs": []
    },
    {
      "cell_type": "code",
      "source": [
        "print(acc1.__dict__)#Dunder function"
      ],
      "metadata": {
        "colab": {
          "base_uri": "https://localhost:8080/"
        },
        "id": "m_OM2L0WiiQ-",
        "outputId": "25672cfd-f284-4bab-e2fd-5d88583979e2"
      },
      "execution_count": null,
      "outputs": [
        {
          "output_type": "stream",
          "name": "stdout",
          "text": [
            "{'accno': 100, 'balance': 100000, 'name': 'kiran', 'b_name': 'XYZ'}\n"
          ]
        }
      ]
    },
    {
      "cell_type": "code",
      "source": [
        "# static\n",
        "# aren't object specific\n",
        "#shared variables among all the objects"
      ],
      "metadata": {
        "id": "6_3JEJ_-iuQK"
      },
      "execution_count": null,
      "outputs": []
    },
    {
      "cell_type": "code",
      "source": [
        "class Employee:\n",
        "  def __init__(self):#constructor\n",
        "    self.name=\"Kiran\"\n",
        "    self.company=\"ABC\"\n",
        "    self.address= \"UK\"\n",
        "    del self.company  "
      ],
      "metadata": {
        "id": "imysM2sskR81"
      },
      "execution_count": null,
      "outputs": []
    },
    {
      "cell_type": "code",
      "source": [
        "e=Employee()"
      ],
      "metadata": {
        "id": "5wfbeyPnmAQw"
      },
      "execution_count": null,
      "outputs": []
    },
    {
      "cell_type": "code",
      "source": [
        "print(\"Name of Employee\",e.name)\n",
        "print(\"Name of Company\",e.company)\n",
        "print(\"Address of the Employee\",e.address)"
      ],
      "metadata": {
        "colab": {
          "base_uri": "https://localhost:8080/",
          "height": 218
        },
        "id": "66ehORbtmExL",
        "outputId": "ca5a13e8-daf6-4dd1-e3df-fa244b58ba1c"
      },
      "execution_count": null,
      "outputs": [
        {
          "output_type": "stream",
          "name": "stdout",
          "text": [
            "Name of Employee Kiran\n"
          ]
        },
        {
          "output_type": "error",
          "ename": "AttributeError",
          "evalue": "ignored",
          "traceback": [
            "\u001b[0;31m---------------------------------------------------------------------------\u001b[0m",
            "\u001b[0;31mAttributeError\u001b[0m                            Traceback (most recent call last)",
            "\u001b[0;32m<ipython-input-39-d06f24f63af0>\u001b[0m in \u001b[0;36m<module>\u001b[0;34m\u001b[0m\n\u001b[1;32m      1\u001b[0m \u001b[0mprint\u001b[0m\u001b[0;34m(\u001b[0m\u001b[0;34m\"Name of Employee\"\u001b[0m\u001b[0;34m,\u001b[0m\u001b[0me\u001b[0m\u001b[0;34m.\u001b[0m\u001b[0mname\u001b[0m\u001b[0;34m)\u001b[0m\u001b[0;34m\u001b[0m\u001b[0;34m\u001b[0m\u001b[0m\n\u001b[0;32m----> 2\u001b[0;31m \u001b[0mprint\u001b[0m\u001b[0;34m(\u001b[0m\u001b[0;34m\"Name of Company\"\u001b[0m\u001b[0;34m,\u001b[0m\u001b[0me\u001b[0m\u001b[0;34m.\u001b[0m\u001b[0mcompany\u001b[0m\u001b[0;34m)\u001b[0m\u001b[0;34m\u001b[0m\u001b[0;34m\u001b[0m\u001b[0m\n\u001b[0m\u001b[1;32m      3\u001b[0m \u001b[0mprint\u001b[0m\u001b[0;34m(\u001b[0m\u001b[0;34m\"Address of the Employee\"\u001b[0m\u001b[0;34m,\u001b[0m\u001b[0me\u001b[0m\u001b[0;34m.\u001b[0m\u001b[0maddress\u001b[0m\u001b[0;34m)\u001b[0m\u001b[0;34m\u001b[0m\u001b[0;34m\u001b[0m\u001b[0m\n",
            "\u001b[0;31mAttributeError\u001b[0m: 'Employee' object has no attribute 'company'"
          ]
        }
      ]
    },
    {
      "cell_type": "code",
      "source": [
        "print(e.__dict__)"
      ],
      "metadata": {
        "colab": {
          "base_uri": "https://localhost:8080/"
        },
        "id": "XodPErlHmh6S",
        "outputId": "c20adc2f-752a-43f0-df72-3bb5f4be31eb"
      },
      "execution_count": null,
      "outputs": [
        {
          "output_type": "stream",
          "name": "stdout",
          "text": [
            "{'name': 'Kiran', 'address': 'UK'}\n"
          ]
        }
      ]
    },
    {
      "cell_type": "code",
      "source": [
        "del e.company"
      ],
      "metadata": {
        "colab": {
          "base_uri": "https://localhost:8080/",
          "height": 166
        },
        "id": "1_gjfwnhmvMo",
        "outputId": "cd7ee14f-39ea-4d68-c658-f1d017acad7a"
      },
      "execution_count": null,
      "outputs": [
        {
          "output_type": "error",
          "ename": "AttributeError",
          "evalue": "ignored",
          "traceback": [
            "\u001b[0;31m---------------------------------------------------------------------------\u001b[0m",
            "\u001b[0;31mAttributeError\u001b[0m                            Traceback (most recent call last)",
            "\u001b[0;32m<ipython-input-41-eaa476fe0e91>\u001b[0m in \u001b[0;36m<module>\u001b[0;34m\u001b[0m\n\u001b[0;32m----> 1\u001b[0;31m \u001b[0;32mdel\u001b[0m \u001b[0me\u001b[0m\u001b[0;34m.\u001b[0m\u001b[0mcompany\u001b[0m\u001b[0;34m\u001b[0m\u001b[0;34m\u001b[0m\u001b[0m\n\u001b[0m",
            "\u001b[0;31mAttributeError\u001b[0m: company"
          ]
        }
      ]
    },
    {
      "cell_type": "code",
      "source": [
        "print(e.__dict__)"
      ],
      "metadata": {
        "colab": {
          "base_uri": "https://localhost:8080/"
        },
        "id": "IrgzOt18m6JJ",
        "outputId": "48f52fd6-6ae1-405a-fefb-dc9057991e5f"
      },
      "execution_count": null,
      "outputs": [
        {
          "output_type": "stream",
          "name": "stdout",
          "text": [
            "{'name': 'Kiran', 'address': 'UK'}\n"
          ]
        }
      ]
    },
    {
      "cell_type": "code",
      "source": [
        "e1=Employee()"
      ],
      "metadata": {
        "id": "lXD212xZm7og"
      },
      "execution_count": null,
      "outputs": []
    },
    {
      "cell_type": "code",
      "source": [
        "e1.__dict__"
      ],
      "metadata": {
        "colab": {
          "base_uri": "https://localhost:8080/"
        },
        "id": "XHQ9FgrunJWU",
        "outputId": "968f6ffb-6a41-4626-997f-13ae23abc8af"
      },
      "execution_count": null,
      "outputs": [
        {
          "output_type": "execute_result",
          "data": {
            "text/plain": [
              "{'name': 'Kiran', 'address': 'UK'}"
            ]
          },
          "metadata": {},
          "execution_count": 44
        }
      ]
    },
    {
      "cell_type": "code",
      "source": [
        "e1.company=\"ABC\""
      ],
      "metadata": {
        "id": "1A-cM0CanNS5"
      },
      "execution_count": null,
      "outputs": []
    },
    {
      "cell_type": "code",
      "source": [
        "e1.__dict__"
      ],
      "metadata": {
        "colab": {
          "base_uri": "https://localhost:8080/"
        },
        "id": "Y2oi05fyoJf-",
        "outputId": "fa336847-93ac-4db2-e7e5-4cbd9ca4dfa9"
      },
      "execution_count": null,
      "outputs": [
        {
          "output_type": "execute_result",
          "data": {
            "text/plain": [
              "{'name': 'Kiran', 'address': 'UK', 'company': 'ABC'}"
            ]
          },
          "metadata": {},
          "execution_count": 46
        }
      ]
    },
    {
      "cell_type": "code",
      "source": [
        "e.__dict__"
      ],
      "metadata": {
        "colab": {
          "base_uri": "https://localhost:8080/"
        },
        "id": "faMtKsRMoLU6",
        "outputId": "f488b89d-fc58-4588-990a-ff66a2130f73"
      },
      "execution_count": null,
      "outputs": [
        {
          "output_type": "execute_result",
          "data": {
            "text/plain": [
              "{'name': 'Kiran', 'address': 'UK'}"
            ]
          },
          "metadata": {},
          "execution_count": 47
        }
      ]
    },
    {
      "cell_type": "code",
      "source": [
        "#@title Default title text\n",
        "#Types of Variables in OOPs\n"
      ],
      "metadata": {
        "id": "ciociiyYoQtF"
      },
      "execution_count": 3,
      "outputs": []
    },
    {
      "cell_type": "code",
      "source": [
        "#Types of Variables in OOPs\n",
        "# Class Variables/Static variables\n",
        "# Instance Variables"
      ],
      "metadata": {
        "id": "OMGoE8BSpaMY"
      },
      "execution_count": 4,
      "outputs": []
    },
    {
      "cell_type": "code",
      "source": [
        "from os import chdir\n",
        "class Car:\n",
        "   wheels =4 # class variable/static variable\n",
        "   def __init__(self):\n",
        "     self.mil =20#instance variables\n",
        "     self.com =\"BMW\"# instance variable\n",
        "\n",
        "\n",
        "car1= Car()\n",
        "car2= Car()"
      ],
      "metadata": {
        "id": "RJMOgyIapjHd"
      },
      "execution_count": 25,
      "outputs": []
    },
    {
      "cell_type": "code",
      "source": [
        "print(car1.mil,car1.com,car1.wheels)\n",
        "print(car2.mil,car2.com,car2.wheels)"
      ],
      "metadata": {
        "id": "fFUBokrNppiN",
        "colab": {
          "base_uri": "https://localhost:8080/"
        },
        "outputId": "957ec1eb-56cf-4884-877d-83dcede9862c"
      },
      "execution_count": 14,
      "outputs": [
        {
          "output_type": "stream",
          "name": "stdout",
          "text": [
            "20 BMW 4\n",
            "20 BMW 4\n"
          ]
        }
      ]
    },
    {
      "cell_type": "code",
      "source": [
        "Car.wheels= 5"
      ],
      "metadata": {
        "id": "Khsw0D2brsfg"
      },
      "execution_count": 16,
      "outputs": []
    },
    {
      "cell_type": "code",
      "source": [
        "print(car1.mil,car1.com,car1.wheels)\n",
        "print(car2.mil,car2.com,car2.wheels)"
      ],
      "metadata": {
        "id": "EtIKRMnnrx74",
        "colab": {
          "base_uri": "https://localhost:8080/"
        },
        "outputId": "cca94ab0-847c-4f06-c6c2-beed062ac658"
      },
      "execution_count": 17,
      "outputs": [
        {
          "output_type": "stream",
          "name": "stdout",
          "text": [
            "20 BMW 5\n",
            "20 BMW 5\n"
          ]
        }
      ]
    },
    {
      "cell_type": "code",
      "source": [
        "car1.mil=18"
      ],
      "metadata": {
        "id": "mtgbxQvyrzhK"
      },
      "execution_count": 19,
      "outputs": []
    },
    {
      "cell_type": "code",
      "source": [
        "print(car1.mil,car1.com,car1.wheels)"
      ],
      "metadata": {
        "id": "uUb730Tlr5IW",
        "colab": {
          "base_uri": "https://localhost:8080/"
        },
        "outputId": "b1e27963-45e9-408c-8c38-2a537eb84112"
      },
      "execution_count": 20,
      "outputs": [
        {
          "output_type": "stream",
          "name": "stdout",
          "text": [
            "18 BMW 5\n"
          ]
        }
      ]
    },
    {
      "cell_type": "code",
      "source": [
        "print(car1.mil,car1.com,car1.wheels)\n",
        "print(car2.mil,car2.com,car2.wheels)"
      ],
      "metadata": {
        "id": "qWr_TNuir__o",
        "colab": {
          "base_uri": "https://localhost:8080/"
        },
        "outputId": "7c9b9fa0-fbb9-4ec9-efd3-957ea208a941"
      },
      "execution_count": 21,
      "outputs": [
        {
          "output_type": "stream",
          "name": "stdout",
          "text": [
            "18 BMW 5\n",
            "20 BMW 5\n"
          ]
        }
      ]
    },
    {
      "cell_type": "code",
      "source": [
        "car3=(70, \"ABC\")"
      ],
      "metadata": {
        "id": "dSBsgj-2sNBt"
      },
      "execution_count": 22,
      "outputs": []
    },
    {
      "cell_type": "code",
      "source": [
        "\n",
        "class Car:\n",
        "   wheels =4 # class variable/static variable\n",
        "   def __init__(self,m,c):\n",
        "     self.mil =m#instance variables\n",
        "     self.com =c# instance variable\n",
        "\n",
        "\n"
      ],
      "metadata": {
        "id": "aEqpCfkkhf2M"
      },
      "execution_count": 30,
      "outputs": []
    },
    {
      "cell_type": "code",
      "source": [
        "car3=Car(70, \"ABC\")"
      ],
      "metadata": {
        "id": "jyjGKLffhsme"
      },
      "execution_count": 31,
      "outputs": []
    },
    {
      "cell_type": "code",
      "source": [
        "print(car3.mil,car3.com,car3.wheels)"
      ],
      "metadata": {
        "colab": {
          "base_uri": "https://localhost:8080/"
        },
        "id": "cNy541l_sYuZ",
        "outputId": "403648dd-c3ed-4a0f-b9dd-ced5f46d6f75"
      },
      "execution_count": 32,
      "outputs": [
        {
          "output_type": "stream",
          "name": "stdout",
          "text": [
            "70 ABC 4\n"
          ]
        }
      ]
    },
    {
      "cell_type": "code",
      "source": [
        "#types of methods\n",
        "# Class method\n",
        "# Static method\n",
        "# Instance method"
      ],
      "metadata": {
        "id": "wSwDmk4YstVx"
      },
      "execution_count": null,
      "outputs": []
    },
    {
      "cell_type": "code",
      "source": [
        "\n",
        "class Student:\n",
        "  school = \"ABC\"\n",
        "  def __init__(self, m1, m2,m3):\n",
        "    self.m1 =m1\n",
        "    self.m2 =m2\n",
        "    self.m3 =m3\n",
        "  #below is instance\n",
        "  def avg(self):\n",
        "    return (self.m1+self.m2+self.m3)/3\n",
        "\n",
        " # accessor method of instance method\n",
        "  def get_m1(self):\n",
        "    return self.m1\n",
        " # mutator method of instance method\n",
        "  def set_m1(self,value):\n",
        "    self.m1 = value\n",
        "\n",
        "\n",
        "    #class method\n",
        "\n",
        "  @classmethod\n",
        "  def get_info(cls):\n",
        "    return cls.school\n",
        "\n",
        "  \n",
        "  @staticmethod\n",
        "  def info(m,n):\n",
        "    print(m)\n",
        "    print(n)\n",
        "    print(\"This is Student Class\")\n",
        "\n",
        "\n",
        "\n",
        "\n",
        "# Class variables = Static Variables\n",
        "# Class method != Static method\n"
      ],
      "metadata": {
        "id": "pKuS76iftm1g"
      },
      "execution_count": 81,
      "outputs": []
    },
    {
      "cell_type": "code",
      "source": [
        "#s1.get_m1()\n",
        "#s1.set_m1(80)\n",
        "Student.get_info()"
      ],
      "metadata": {
        "colab": {
          "base_uri": "https://localhost:8080/",
          "height": 35
        },
        "id": "sikvslgcmhbz",
        "outputId": "08ef5265-826c-438a-a370-53b0242503c8"
      },
      "execution_count": 82,
      "outputs": [
        {
          "output_type": "execute_result",
          "data": {
            "text/plain": [
              "'ABC'"
            ],
            "application/vnd.google.colaboratory.intrinsic+json": {
              "type": "string"
            }
          },
          "metadata": {},
          "execution_count": 82
        }
      ]
    },
    {
      "cell_type": "code",
      "source": [
        "Student.info(\"Kiran\",00)"
      ],
      "metadata": {
        "colab": {
          "base_uri": "https://localhost:8080/"
        },
        "id": "iOWrXsfbrPkL",
        "outputId": "6da9c05d-a310-459b-a702-5a894bba3694"
      },
      "execution_count": 83,
      "outputs": [
        {
          "output_type": "stream",
          "name": "stdout",
          "text": [
            "Kiran\n",
            "0\n",
            "This is Student Class\n"
          ]
        }
      ]
    },
    {
      "cell_type": "markdown",
      "source": [],
      "metadata": {
        "id": "DFLtiWnDj1CH"
      }
    },
    {
      "cell_type": "code",
      "source": [
        "s1=Student(34, 67,32)\n",
        "s2=Student(80,32,12)"
      ],
      "metadata": {
        "id": "KE8DTW_xycfo"
      },
      "execution_count": 65,
      "outputs": []
    },
    {
      "cell_type": "code",
      "source": [
        "print()"
      ],
      "metadata": {
        "colab": {
          "base_uri": "https://localhost:8080/"
        },
        "id": "m39zNuNZ-efM",
        "outputId": "cdbd9de8-9690-49d0-b4f8-00c6f72df241"
      },
      "execution_count": 47,
      "outputs": [
        {
          "output_type": "stream",
          "name": "stdout",
          "text": [
            "\n"
          ]
        }
      ]
    },
    {
      "cell_type": "code",
      "source": [
        "s1.avg()\n"
      ],
      "metadata": {
        "colab": {
          "base_uri": "https://localhost:8080/"
        },
        "id": "gdQ6ZCP8G9Fj",
        "outputId": "e3847262-5c2e-48b8-d488-3aedf295c20d"
      },
      "execution_count": 57,
      "outputs": [
        {
          "output_type": "execute_result",
          "data": {
            "text/plain": [
              "59.666666666666664"
            ]
          },
          "metadata": {},
          "execution_count": 57
        }
      ]
    },
    {
      "cell_type": "code",
      "source": [
        "s2.avg()"
      ],
      "metadata": {
        "colab": {
          "base_uri": "https://localhost:8080/"
        },
        "id": "lXjxxZynHD3S",
        "outputId": "17b83bcf-33b9-4943-f096-cc603542788e"
      },
      "execution_count": 49,
      "outputs": [
        {
          "output_type": "execute_result",
          "data": {
            "text/plain": [
              "41.333333333333336"
            ]
          },
          "metadata": {},
          "execution_count": 49
        }
      ]
    },
    {
      "cell_type": "code",
      "source": [
        "#instance method\n",
        "#accesor method\n",
        "#mutator method"
      ],
      "metadata": {
        "id": "iAtZWWzsJ1kn"
      },
      "execution_count": null,
      "outputs": []
    }
  ]
}