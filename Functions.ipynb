{
  "nbformat": 4,
  "nbformat_minor": 0,
  "metadata": {
    "colab": {
      "provenance": [],
      "authorship_tag": "ABX9TyP8f8eciFoapxk+ZZ74+NzB",
      "include_colab_link": true
    },
    "kernelspec": {
      "name": "python3",
      "display_name": "Python 3"
    },
    "language_info": {
      "name": "python"
    }
  },
  "cells": [
    {
      "cell_type": "markdown",
      "metadata": {
        "id": "view-in-github",
        "colab_type": "text"
      },
      "source": [
        "<a href=\"https://colab.research.google.com/github/pikachu-training/pikachu-training/blob/main/Functions.ipynb\" target=\"_parent\"><img src=\"https://colab.research.google.com/assets/colab-badge.svg\" alt=\"Open In Colab\"/></a>"
      ]
    },
    {
      "cell_type": "code",
      "execution_count": 1,
      "metadata": {
        "id": "yzE-iAfJA1Ui"
      },
      "outputs": [],
      "source": [
        "#Function is a block of code\n",
        "#Function has some name\n"
      ]
    },
    {
      "cell_type": "code",
      "source": [
        "a= input(\"First Name\")\n",
        "b=input(\"Last Name\")\n",
        "c= a+b\n",
        "print(c)"
      ],
      "metadata": {
        "colab": {
          "base_uri": "https://localhost:8080/"
        },
        "id": "3ByjuSADBjVW",
        "outputId": "25b50634-d111-4696-f674-b29ae1d77a68"
      },
      "execution_count": 2,
      "outputs": [
        {
          "output_type": "stream",
          "name": "stdout",
          "text": [
            "First NameKiran\n",
            "Last NameAvulasetty\n",
            "KiranAvulasetty\n"
          ]
        }
      ]
    },
    {
      "cell_type": "code",
      "source": [
        "def add():\n",
        "  a = int(input(\"First Number\"))\n",
        "  b= int(input(\"Second Number\"))\n",
        "  c=a+b\n",
        "  "
      ],
      "metadata": {
        "id": "esKyhXBpB0iL"
      },
      "execution_count": 5,
      "outputs": []
    },
    {
      "cell_type": "code",
      "source": [
        "add()"
      ],
      "metadata": {
        "colab": {
          "base_uri": "https://localhost:8080/"
        },
        "id": "I7RIJuwtCQlp",
        "outputId": "3fc4b786-ab1b-4fd6-9a69-0196be2f2e88"
      },
      "execution_count": 6,
      "outputs": [
        {
          "name": "stdout",
          "output_type": "stream",
          "text": [
            "First Number34\n",
            "Second Number35\n"
          ]
        }
      ]
    },
    {
      "cell_type": "code",
      "source": [
        "# predefined function/inbuilt-function\n",
        "# user defined function\n",
        "\n",
        "#1.takes nothing, returns nothing\n",
        "#2.takes something, returns nothing\n",
        "#3.takes nothing, returns something\n",
        "#4.takes something, returns something\n",
        "\n"
      ],
      "metadata": {
        "id": "o0L6AWFdCWHe"
      },
      "execution_count": 7,
      "outputs": []
    },
    {
      "cell_type": "code",
      "source": [
        "def add1(a,b):\n",
        "\n",
        "  c=a+b\n",
        "  "
      ],
      "metadata": {
        "id": "s01I03tEDGFG"
      },
      "execution_count": 9,
      "outputs": []
    },
    {
      "cell_type": "code",
      "source": [
        "add1(3,4)"
      ],
      "metadata": {
        "id": "8i9wF0VCDVqD"
      },
      "execution_count": 10,
      "outputs": []
    },
    {
      "cell_type": "code",
      "source": [
        "def add2():\n",
        "  a = int(input(\"First Number\"))\n",
        "  b= int(input(\"Second Number\"))\n",
        "  c=a+b\n",
        "  return c"
      ],
      "metadata": {
        "id": "igLxXyqMDgGx"
      },
      "execution_count": 12,
      "outputs": []
    },
    {
      "cell_type": "code",
      "source": [
        "add2()"
      ],
      "metadata": {
        "colab": {
          "base_uri": "https://localhost:8080/"
        },
        "id": "64LTjHxkD_zv",
        "outputId": "c0ea537f-f295-46c9-a698-c6c8c4e7de60"
      },
      "execution_count": 13,
      "outputs": [
        {
          "name": "stdout",
          "output_type": "stream",
          "text": [
            "First Number3\n",
            "Second Number5\n"
          ]
        },
        {
          "output_type": "execute_result",
          "data": {
            "text/plain": [
              "8"
            ]
          },
          "metadata": {},
          "execution_count": 13
        }
      ]
    },
    {
      "cell_type": "code",
      "source": [
        "def sub(a,b):\n",
        "\n",
        "  c=a-b\n",
        "\n",
        "  return c\n",
        "  "
      ],
      "metadata": {
        "id": "QwI9EpjFEDhI"
      },
      "execution_count": 15,
      "outputs": []
    },
    {
      "cell_type": "code",
      "source": [
        "sub(9,5)"
      ],
      "metadata": {
        "colab": {
          "base_uri": "https://localhost:8080/"
        },
        "id": "UKIQ6O0QEaHD",
        "outputId": "20701351-9018-4319-a17e-55f4dac5a174"
      },
      "execution_count": 16,
      "outputs": [
        {
          "output_type": "execute_result",
          "data": {
            "text/plain": [
              "4"
            ]
          },
          "metadata": {},
          "execution_count": 16
        }
      ]
    },
    {
      "cell_type": "code",
      "source": [
        "def mul(a,b=1,c=1):\n",
        "\n",
        "  m=a*c*b\n",
        "\n",
        "  return m\n",
        "  "
      ],
      "metadata": {
        "id": "I0cveY9jElEK"
      },
      "execution_count": 17,
      "outputs": []
    },
    {
      "cell_type": "code",
      "source": [
        "mul(2)"
      ],
      "metadata": {
        "colab": {
          "base_uri": "https://localhost:8080/"
        },
        "id": "Y1gt1rOvFQfp",
        "outputId": "38b59fac-3744-4acc-f9f5-e8057a9d6bef"
      },
      "execution_count": 18,
      "outputs": [
        {
          "output_type": "execute_result",
          "data": {
            "text/plain": [
              "2"
            ]
          },
          "metadata": {},
          "execution_count": 18
        }
      ]
    },
    {
      "cell_type": "code",
      "source": [
        "mul(2,3,4)"
      ],
      "metadata": {
        "colab": {
          "base_uri": "https://localhost:8080/"
        },
        "id": "VLzhFRm5FbZ0",
        "outputId": "5d07c4c6-2814-4b55-a889-c98bff06c2b9"
      },
      "execution_count": 19,
      "outputs": [
        {
          "output_type": "execute_result",
          "data": {
            "text/plain": [
              "24"
            ]
          },
          "metadata": {},
          "execution_count": 19
        }
      ]
    },
    {
      "cell_type": "code",
      "source": [
        "def summ(a,b,c=0):\n",
        "  s=a+b+c\n",
        "\n",
        "  return s"
      ],
      "metadata": {
        "id": "IC4_XsNLFi3M"
      },
      "execution_count": 21,
      "outputs": []
    },
    {
      "cell_type": "code",
      "source": [
        "def f1(a,b):\n",
        "  print(\"a=\",a,\"b=\",b)"
      ],
      "metadata": {
        "id": "w8XVc1aeF1SY"
      },
      "execution_count": 22,
      "outputs": []
    },
    {
      "cell_type": "code",
      "source": [
        "f1(10,20)"
      ],
      "metadata": {
        "colab": {
          "base_uri": "https://localhost:8080/"
        },
        "id": "esHr2psOGlyT",
        "outputId": "052d23d4-22d9-49e7-d8bb-8e2051e67ad0"
      },
      "execution_count": 23,
      "outputs": [
        {
          "output_type": "stream",
          "name": "stdout",
          "text": [
            "a= 10 b= 20\n"
          ]
        }
      ]
    },
    {
      "cell_type": "code",
      "source": [
        "f1(b=10,a=20)"
      ],
      "metadata": {
        "colab": {
          "base_uri": "https://localhost:8080/"
        },
        "id": "zL8bwmr9Gvtu",
        "outputId": "2656af8d-22cd-4697-d206-96a84391aca4"
      },
      "execution_count": 25,
      "outputs": [
        {
          "output_type": "stream",
          "name": "stdout",
          "text": [
            "a= 20 b= 10\n"
          ]
        }
      ]
    },
    {
      "cell_type": "code",
      "source": [
        "f1(a=10,20)"
      ],
      "metadata": {
        "colab": {
          "base_uri": "https://localhost:8080/",
          "height": 131
        },
        "id": "sflY6ACjG13v",
        "outputId": "fddeb591-2f4f-47e5-a946-c9a922862c8d"
      },
      "execution_count": 26,
      "outputs": [
        {
          "output_type": "error",
          "ename": "SyntaxError",
          "evalue": "ignored",
          "traceback": [
            "\u001b[0;36m  File \u001b[0;32m\"<ipython-input-26-1d55da7188c3>\"\u001b[0;36m, line \u001b[0;32m1\u001b[0m\n\u001b[0;31m    f1(a=10,20)\u001b[0m\n\u001b[0m           ^\u001b[0m\n\u001b[0;31mSyntaxError\u001b[0m\u001b[0;31m:\u001b[0m positional argument follows keyword argument\n"
          ]
        }
      ]
    },
    {
      "cell_type": "code",
      "source": [
        "f1(10, b=20)"
      ],
      "metadata": {
        "colab": {
          "base_uri": "https://localhost:8080/"
        },
        "id": "YQUe7FmnHMoY",
        "outputId": "dae08ce1-8aea-4002-9731-6711ce68f2f6"
      },
      "execution_count": 27,
      "outputs": [
        {
          "output_type": "stream",
          "name": "stdout",
          "text": [
            "a= 10 b= 20\n"
          ]
        }
      ]
    },
    {
      "cell_type": "code",
      "source": [
        "#variable length arguments\n",
        "\n",
        "def f2(a,*b):\n",
        "  print(a)\n",
        "  print(b,type(b))"
      ],
      "metadata": {
        "id": "Qgn6dUZnHT0U"
      },
      "execution_count": 28,
      "outputs": []
    },
    {
      "cell_type": "code",
      "source": [
        "f2(1,2)"
      ],
      "metadata": {
        "colab": {
          "base_uri": "https://localhost:8080/"
        },
        "id": "Zl05VJ5WH4Pn",
        "outputId": "5eb1fdcb-00f3-4ec9-8a13-f1f05a85e3e8"
      },
      "execution_count": 29,
      "outputs": [
        {
          "output_type": "stream",
          "name": "stdout",
          "text": [
            "1\n",
            "(2,) <class 'tuple'>\n"
          ]
        }
      ]
    },
    {
      "cell_type": "code",
      "source": [
        "f2(1,2,3,4,5)"
      ],
      "metadata": {
        "colab": {
          "base_uri": "https://localhost:8080/"
        },
        "id": "e8jC5xbRH8Dy",
        "outputId": "cbc7efcd-0ff8-4a2c-a32e-87524ea8077f"
      },
      "execution_count": 30,
      "outputs": [
        {
          "output_type": "stream",
          "name": "stdout",
          "text": [
            "1\n",
            "(2, 3, 4, 5) <class 'tuple'>\n"
          ]
        }
      ]
    },
    {
      "cell_type": "code",
      "source": [
        "def avg(*n):\n",
        "  s=0\n",
        "  for x in n:\n",
        "    s=s+x\n",
        "  if len(n)!=0:\n",
        "    return s/len(n)\n",
        "\n",
        "  return \"No Elements\"    "
      ],
      "metadata": {
        "id": "q80CyawZIksu"
      },
      "execution_count": 31,
      "outputs": []
    },
    {
      "cell_type": "code",
      "source": [
        "x= avg(20,34,55,63)\n",
        "print(\"Average is \",x)"
      ],
      "metadata": {
        "colab": {
          "base_uri": "https://localhost:8080/"
        },
        "id": "wrL8c1-hJLkk",
        "outputId": "06321b99-9f70-4797-e37e-c6b9df568a70"
      },
      "execution_count": 34,
      "outputs": [
        {
          "output_type": "stream",
          "name": "stdout",
          "text": [
            "Average is  43.0\n"
          ]
        }
      ]
    },
    {
      "cell_type": "code",
      "source": [
        "def f3(*points,player_name):\n",
        "  print(player_name,end=\"_\")\n",
        "  s=0\n",
        "  for x in points:\n",
        "    s=s+x\n",
        "  print(\"Total Points=\",s)  "
      ],
      "metadata": {
        "id": "Z385H6Y_JROp"
      },
      "execution_count": 35,
      "outputs": []
    },
    {
      "cell_type": "code",
      "source": [
        "f3(\"Kiran\",30,40,50,60)"
      ],
      "metadata": {
        "colab": {
          "base_uri": "https://localhost:8080/"
        },
        "id": "4-jnDi_hKMHK",
        "outputId": "5853495f-4450-4f75-96c9-f0f7499eae62"
      },
      "execution_count": 41,
      "outputs": [
        {
          "output_type": "stream",
          "name": "stdout",
          "text": [
            "Kiran_Total Points= 180\n"
          ]
        }
      ]
    },
    {
      "cell_type": "code",
      "source": [],
      "metadata": {
        "id": "LJKsMkRzKWWN"
      },
      "execution_count": null,
      "outputs": []
    }
  ]
}